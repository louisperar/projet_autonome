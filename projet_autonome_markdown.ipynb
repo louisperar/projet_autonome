{
 "cells": [
  {
   "cell_type": "markdown",
   "metadata": {},
   "source": [
    "# Projet autonome DevCloud\n",
    "## Sujet de projet :\n",
    "Developpement Système et Cloud, Gestion de Projet, Déploiement et Intégration Continue\n",
    "### Contexte :\n",
    "Ce projet me permettra de développer des compétences e, développement systèmes et cloud, en couvrant des aspects clés tels que la gestion de projet agile, la configuration d'environnements de développement, et la mise en place de processus d'intégration continue.\n",
    "Le projet est structuré en plusieurs phases, chacune nécessitant des livrables spécifiques et la rédaction d'une documentation destinée à faciliter la prise en main du projet par un nouveau contributeur.\n",
    "Je développerait également une application exemple sous la forme d'un micro-service (API) orientée IT, qui servira de support pratique tout au long du projet.\n",
    "# Sommaire\n",
    "Phase 1 : Gestion de projet agile et documentation\n",
    "   1. définition du backlog\n",
    "   2. Utilisaqtion de trello pour répertorier les ressources, sites et documents utilisé ainsi que d'établir le plan de travail\n",
    "   3. Explication de la documentation\n",
    "\n",
    "Phase 2 : Développement de l'application exemple et mise en place de l'environnement de Développement\n",
    "   1. Définition des spécifications de l'API (YAML)\n",
    "   2. Développer l'API\n",
    "   3. Initialiation de l'environnement Python\n",
    "   4. Configuration de Git\n",
    "   5. Mise en place de pre-commit\n",
    "   6. Création de script vagrant\n",
    "\n",
    "Phase 3 : Déploiement et intégration continue\n",
    "   1. Création de la VM patargée\n",
    "   2. Installation de Docker et la registry docker\n",
    "   3. Création du dockerfile de l'API\n",
    "   4. Automatisation du pipeline CI/CD\n",
    "   5. Test de déploiement\n",
    "\n",
    "\n"
   ]
  },
  {
   "cell_type": "markdown",
   "metadata": {},
   "source": []
  }
 ],
 "metadata": {
  "language_info": {
   "name": "python"
  },
  "orig_nbformat": 4
 },
 "nbformat": 4,
 "nbformat_minor": 2
}
